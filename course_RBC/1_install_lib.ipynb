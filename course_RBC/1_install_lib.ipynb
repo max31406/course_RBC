{
 "cells": [
  {
   "cell_type": "code",
   "execution_count": 1,
   "id": "fd556265",
   "metadata": {},
   "outputs": [
    {
     "name": "stdout",
     "output_type": "stream",
     "text": [
      "Cloning into 'darknet'...\n",
      "remote: Enumerating objects: 15308, done.\u001b[K\n",
      "remote: Total 15308 (delta 0), reused 0 (delta 0), pack-reused 15308\u001b[K\n",
      "Receiving objects: 100% (15308/15308), 13.69 MiB | 9.87 MiB/s, done.\n",
      "Resolving deltas: 100% (10406/10406), done.\n"
     ]
    }
   ],
   "source": [
    "!git clone https://github.com/AlexeyAB/darknet "
   ]
  },
  {
   "cell_type": "code",
   "execution_count": 2,
   "id": "a6700bd4",
   "metadata": {},
   "outputs": [
    {
     "name": "stdout",
     "output_type": "stream",
     "text": [
      "Get:1 http://security.ubuntu.com/ubuntu focal-security InRelease [114 kB]\n",
      "Hit:2 http://archive.ubuntu.com/ubuntu focal InRelease   \u001b[0m\n",
      "Get:3 http://archive.ubuntu.com/ubuntu focal-updates InRelease [114 kB]\n",
      "Get:4 http://archive.ubuntu.com/ubuntu focal-backports InRelease [101 kB][33m\u001b[33m\u001b[33m\u001b[33m\n",
      "Fetched 328 kB in 2s (158 kB/s)  \u001b[0m\u001b[33m\u001b[33m\n",
      "Reading package lists... Done\n",
      "Building dependency tree       \n",
      "Reading state information... Done\n",
      "44 packages can be upgraded. Run 'apt list --upgradable' to see them.\n",
      "Reading package lists... Done\n",
      "Building dependency tree       \n",
      "Reading state information... Done\n",
      "libopencv-dev is already the newest version (4.2.0+dfsg-5).\n",
      "python3-opencv is already the newest version (4.2.0+dfsg-5).\n",
      "0 upgraded, 0 newly installed, 0 to remove and 44 not upgraded.\n"
     ]
    }
   ],
   "source": [
    "!sudo apt update\n",
    "!sudo apt install libopencv-dev python3-opencv -y"
   ]
  },
  {
   "cell_type": "code",
   "execution_count": null,
   "id": "d06f0b19",
   "metadata": {},
   "outputs": [],
   "source": []
  },
  {
   "cell_type": "code",
   "execution_count": null,
   "id": "3c90b737",
   "metadata": {},
   "outputs": [],
   "source": []
  },
  {
   "cell_type": "code",
   "execution_count": null,
   "id": "1c9e0dfe",
   "metadata": {},
   "outputs": [],
   "source": []
  },
  {
   "cell_type": "code",
   "execution_count": null,
   "id": "54873df9",
   "metadata": {},
   "outputs": [],
   "source": []
  }
 ],
 "metadata": {
  "kernelspec": {
   "display_name": "Python 3",
   "language": "python",
   "name": "python3"
  },
  "language_info": {
   "codemirror_mode": {
    "name": "ipython",
    "version": 3
   },
   "file_extension": ".py",
   "mimetype": "text/x-python",
   "name": "python",
   "nbconvert_exporter": "python",
   "pygments_lexer": "ipython3",
   "version": "3.8.5"
  }
 },
 "nbformat": 4,
 "nbformat_minor": 5
}
